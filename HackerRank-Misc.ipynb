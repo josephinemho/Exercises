{
 "cells": [
  {
   "cell_type": "markdown",
   "metadata": {},
   "source": [
    "Dashboard  Algorithms  Implementation  Grading Students"
   ]
  },
  {
   "cell_type": "code",
   "execution_count": 1,
   "metadata": {
    "collapsed": true
   },
   "outputs": [],
   "source": [
    "x = [4, 73, 67, 38, 33]"
   ]
  },
  {
   "cell_type": "code",
   "execution_count": 2,
   "metadata": {
    "collapsed": true
   },
   "outputs": [],
   "source": [
    "def solve(grades):\n",
    "    for x in grades:\n",
    "        if x<40:\n",
    "            pass\n",
    "        elif (5-x)%(1-3):\n",
    "            print(round(x))\n",
    "        else:\n",
    "            print(x)"
   ]
  },
  {
   "cell_type": "code",
   "execution_count": 3,
   "metadata": {},
   "outputs": [
    {
     "name": "stdout",
     "output_type": "stream",
     "text": [
      "73\n",
      "67\n"
     ]
    }
   ],
   "source": [
    "solve(x)"
   ]
  },
  {
   "cell_type": "code",
   "execution_count": 4,
   "metadata": {},
   "outputs": [
    {
     "data": {
      "text/plain": [
       "0"
      ]
     },
     "execution_count": 4,
     "metadata": {},
     "output_type": "execute_result"
    }
   ],
   "source": [
    "10%(1-3)"
   ]
  },
  {
   "cell_type": "code",
   "execution_count": 5,
   "metadata": {
    "collapsed": true
   },
   "outputs": [],
   "source": [
    "def solve(grades):\n",
    "    rounded_grades = []\n",
    "    for gr in grades:\n",
    "        if gr > 37:\n",
    "            remainder = gr%5\n",
    "            quotient = gr // 5 #integer division\n",
    "            if remainder > 2:\n",
    "                gr = 5*(quotient+1)\n",
    "        rounded_grades.append(gr)\n",
    "    return rounded_grades"
   ]
  },
  {
   "cell_type": "code",
   "execution_count": 6,
   "metadata": {},
   "outputs": [
    {
     "data": {
      "text/plain": [
       "[4, 75, 67, 40, 33]"
      ]
     },
     "execution_count": 6,
     "metadata": {},
     "output_type": "execute_result"
    }
   ],
   "source": [
    "solve(x)"
   ]
  },
  {
   "cell_type": "code",
   "execution_count": 7,
   "metadata": {
    "collapsed": true
   },
   "outputs": [],
   "source": [
    "def solve(grades):\n",
    "    rounded_grades = []\n",
    "    for i, gr in enumerate(grades):\n",
    "        if gr > 37:\n",
    "            remainder = gr%5\n",
    "            quotient = gr // 5 #integer division\n",
    "            if remainder > 2:\n",
    "                grades[i] = 5*(quotient+1)\n",
    "    return grades"
   ]
  },
  {
   "cell_type": "code",
   "execution_count": 8,
   "metadata": {},
   "outputs": [
    {
     "data": {
      "text/plain": [
       "[4, 75, 67, 40, 33]"
      ]
     },
     "execution_count": 8,
     "metadata": {},
     "output_type": "execute_result"
    }
   ],
   "source": [
    "solve(x)"
   ]
  },
  {
   "cell_type": "markdown",
   "metadata": {},
   "source": [
    "Dashboard  Algorithms  Implementation  Kangaroo"
   ]
  },
  {
   "cell_type": "code",
   "execution_count": 9,
   "metadata": {
    "collapsed": true
   },
   "outputs": [],
   "source": [
    "import numpy as np"
   ]
  },
  {
   "cell_type": "code",
   "execution_count": 10,
   "metadata": {
    "collapsed": true
   },
   "outputs": [],
   "source": [
    "x = [0,3,4,2]"
   ]
  },
  {
   "cell_type": "code",
   "execution_count": 11,
   "metadata": {
    "collapsed": true
   },
   "outputs": [],
   "source": [
    "def meet(kangaroo):\n",
    "    k1, l1, k2, l2 = kangaroo\n",
    "    if np.any(k1+(l1*np.linspace(1,1000,1000)) == k2+(l2*np.linspace(1,1000,1000))):\n",
    "        print(\"YES\")\n",
    "    else:\n",
    "        print(\"NO\")"
   ]
  },
  {
   "cell_type": "code",
   "execution_count": 12,
   "metadata": {},
   "outputs": [
    {
     "name": "stdout",
     "output_type": "stream",
     "text": [
      "YES\n"
     ]
    }
   ],
   "source": [
    "meet(x)"
   ]
  },
  {
   "cell_type": "code",
   "execution_count": 13,
   "metadata": {},
   "outputs": [
    {
     "data": {
      "text/plain": [
       "array([0, 0, 0, 1, 0, 0, 0, 0, 0, 0, 0, 0, 0, 0, 0, 0, 0, 0, 0, 0])"
      ]
     },
     "execution_count": 13,
     "metadata": {},
     "output_type": "execute_result"
    }
   ],
   "source": [
    "0+(3*np.linspace(1,1000,1000) == 4+(2*np.linspace(1,1000,1000)))[:20]"
   ]
  },
  {
   "cell_type": "code",
   "execution_count": 14,
   "metadata": {},
   "outputs": [
    {
     "data": {
      "text/plain": [
       "(array([3]),)"
      ]
     },
     "execution_count": 14,
     "metadata": {},
     "output_type": "execute_result"
    }
   ],
   "source": [
    "np.where(0+(3*np.linspace(1,1000,1000) == 4+(2*np.linspace(1,1000,1000))))"
   ]
  },
  {
   "cell_type": "code",
   "execution_count": 15,
   "metadata": {
    "collapsed": true
   },
   "outputs": [],
   "source": [
    "#Try without numpy:"
   ]
  },
  {
   "cell_type": "code",
   "execution_count": 16,
   "metadata": {
    "scrolled": true
   },
   "outputs": [
    {
     "data": {
      "text/plain": [
       "0"
      ]
     },
     "execution_count": 16,
     "metadata": {},
     "output_type": "execute_result"
    }
   ],
   "source": [
    "10%1"
   ]
  },
  {
   "cell_type": "code",
   "execution_count": 17,
   "metadata": {
    "collapsed": true
   },
   "outputs": [],
   "source": [
    "def meet(x):\n",
    "    k1, l1, k2, l2 = x\n",
    "    try:\n",
    "        t = (1.0*k2-k1)/(l1-l2)\n",
    "        if (t < 0) or (t%1 !=0):\n",
    "            print(\"NO\")\n",
    "        else:\n",
    "            print(\"YES\")\n",
    "    except:\n",
    "        print(\"NO\")"
   ]
  },
  {
   "cell_type": "code",
   "execution_count": 18,
   "metadata": {},
   "outputs": [
    {
     "name": "stdout",
     "output_type": "stream",
     "text": [
      "YES\n"
     ]
    }
   ],
   "source": [
    "meet(x)"
   ]
  },
  {
   "cell_type": "markdown",
   "metadata": {},
   "source": [
    "Dashboard  Algorithms  Warmup  Staircase"
   ]
  },
  {
   "cell_type": "code",
   "execution_count": 19,
   "metadata": {
    "collapsed": true
   },
   "outputs": [],
   "source": [
    "def staircase(n):\n",
    "    for i in range(1,n+1):\n",
    "        print(\" \"*(n-i)+\"#\"*i)"
   ]
  },
  {
   "cell_type": "code",
   "execution_count": 20,
   "metadata": {},
   "outputs": [
    {
     "name": "stdout",
     "output_type": "stream",
     "text": [
      "     #\n",
      "    ##\n",
      "   ###\n",
      "  ####\n",
      " #####\n",
      "######\n"
     ]
    }
   ],
   "source": [
    "staircase(6)"
   ]
  },
  {
   "cell_type": "markdown",
   "metadata": {},
   "source": [
    "Dashboard  Algorithms  Warmup  Birthday Cake Candles"
   ]
  },
  {
   "cell_type": "code",
   "execution_count": 21,
   "metadata": {
    "collapsed": true
   },
   "outputs": [],
   "source": [
    "height= [5,2,1,3,5,5,10.5]"
   ]
  },
  {
   "cell_type": "code",
   "execution_count": 22,
   "metadata": {
    "scrolled": true
   },
   "outputs": [
    {
     "data": {
      "text/plain": [
       "10.5"
      ]
     },
     "execution_count": 22,
     "metadata": {},
     "output_type": "execute_result"
    }
   ],
   "source": [
    "max(height)"
   ]
  },
  {
   "cell_type": "code",
   "execution_count": 23,
   "metadata": {},
   "outputs": [
    {
     "data": {
      "text/plain": [
       "7"
      ]
     },
     "execution_count": 23,
     "metadata": {},
     "output_type": "execute_result"
    }
   ],
   "source": [
    "len(height)"
   ]
  },
  {
   "cell_type": "code",
   "execution_count": 24,
   "metadata": {},
   "outputs": [
    {
     "name": "stdout",
     "output_type": "stream",
     "text": [
      "1\n"
     ]
    }
   ],
   "source": [
    "def candles(height):\n",
    "    tall = []\n",
    "    for i in height:\n",
    "        if i==max(height):\n",
    "            tall.append(i)\n",
    "    print(len(tall))\n",
    "candles(height)"
   ]
  },
  {
   "cell_type": "code",
   "execution_count": 25,
   "metadata": {},
   "outputs": [
    {
     "data": {
      "text/plain": [
       "10.5"
      ]
     },
     "execution_count": 25,
     "metadata": {},
     "output_type": "execute_result"
    }
   ],
   "source": [
    "max(height)"
   ]
  },
  {
   "cell_type": "code",
   "execution_count": 26,
   "metadata": {},
   "outputs": [
    {
     "name": "stdout",
     "output_type": "stream",
     "text": [
      "1\n"
     ]
    }
   ],
   "source": [
    "print(height.count(max(height)))"
   ]
  },
  {
   "cell_type": "code",
   "execution_count": 27,
   "metadata": {},
   "outputs": [
    {
     "name": "stdout",
     "output_type": "stream",
     "text": [
      "1\n"
     ]
    }
   ],
   "source": [
    "print(len([can for can in height if can == max(height)]))"
   ]
  },
  {
   "cell_type": "code",
   "execution_count": 28,
   "metadata": {},
   "outputs": [
    {
     "data": {
      "text/plain": [
       "['__add__',\n",
       " '__class__',\n",
       " '__contains__',\n",
       " '__delattr__',\n",
       " '__delitem__',\n",
       " '__dir__',\n",
       " '__doc__',\n",
       " '__eq__',\n",
       " '__format__',\n",
       " '__ge__',\n",
       " '__getattribute__',\n",
       " '__getitem__',\n",
       " '__gt__',\n",
       " '__hash__',\n",
       " '__iadd__',\n",
       " '__imul__',\n",
       " '__init__',\n",
       " '__iter__',\n",
       " '__le__',\n",
       " '__len__',\n",
       " '__lt__',\n",
       " '__mul__',\n",
       " '__ne__',\n",
       " '__new__',\n",
       " '__reduce__',\n",
       " '__reduce_ex__',\n",
       " '__repr__',\n",
       " '__reversed__',\n",
       " '__rmul__',\n",
       " '__setattr__',\n",
       " '__setitem__',\n",
       " '__sizeof__',\n",
       " '__str__',\n",
       " '__subclasshook__',\n",
       " 'append',\n",
       " 'clear',\n",
       " 'copy',\n",
       " 'count',\n",
       " 'extend',\n",
       " 'index',\n",
       " 'insert',\n",
       " 'pop',\n",
       " 'remove',\n",
       " 'reverse',\n",
       " 'sort']"
      ]
     },
     "execution_count": 28,
     "metadata": {},
     "output_type": "execute_result"
    }
   ],
   "source": [
    "#AMAZING WAY TO SEE ALL THE METHODS FOR A LIST/LIBRARY!!!!!!!!!!!!!!!!!\n",
    "dir(list)"
   ]
  },
  {
   "cell_type": "code",
   "execution_count": 29,
   "metadata": {},
   "outputs": [
    {
     "data": {
      "text/plain": [
       "['BINARY',\n",
       " 'Binary',\n",
       " 'DATETIME',\n",
       " 'DataError',\n",
       " 'DatabaseError',\n",
       " 'Date',\n",
       " 'DateFromTicks',\n",
       " 'Error',\n",
       " 'IntegrityError',\n",
       " 'InterfaceError',\n",
       " 'InternalError',\n",
       " 'NUMBER',\n",
       " 'NotSupportedError',\n",
       " 'OperationalError',\n",
       " 'ProgrammingError',\n",
       " 'ROWID',\n",
       " 'STRING',\n",
       " 'Time',\n",
       " 'TimeFromTicks',\n",
       " 'Timestamp',\n",
       " 'TimestampFromTicks',\n",
       " 'Warning',\n",
       " '__builtins__',\n",
       " '__cached__',\n",
       " '__doc__',\n",
       " '__file__',\n",
       " '__loader__',\n",
       " '__name__',\n",
       " '__package__',\n",
       " '__path__',\n",
       " '__spec__',\n",
       " '__version__',\n",
       " '_connect',\n",
       " '_ext',\n",
       " '_json',\n",
       " '_param_escape',\n",
       " '_psycopg',\n",
       " '_range',\n",
       " 'apilevel',\n",
       " 'connect',\n",
       " 'extensions',\n",
       " 'paramstyle',\n",
       " 'threadsafety',\n",
       " 'tz']"
      ]
     },
     "execution_count": 29,
     "metadata": {},
     "output_type": "execute_result"
    }
   ],
   "source": [
    "import psycopg2\n",
    "dir(psycopg2)"
   ]
  },
  {
   "cell_type": "markdown",
   "metadata": {
    "collapsed": true
   },
   "source": [
    "Dashboard  Algorithms  Implementation  Between Two Sets"
   ]
  },
  {
   "cell_type": "code",
   "execution_count": 30,
   "metadata": {
    "collapsed": true
   },
   "outputs": [],
   "source": [
    "a = [2,4]\n",
    "b = [16,32,96]"
   ]
  },
  {
   "cell_type": "code",
   "execution_count": 31,
   "metadata": {},
   "outputs": [
    {
     "name": "stdout",
     "output_type": "stream",
     "text": [
      "6\n",
      "12\n",
      "14\n",
      "20\n"
     ]
    }
   ],
   "source": [
    "x_list = []\n",
    "for x in range(max(a), min(b)+1, max(a)):\n",
    "    for a_i in a:\n",
    "        if x%a_i ==0:\n",
    "            for b_i in b:\n",
    "                if b_i%x == 0:\n",
    "                    x_list.append(x)\n",
    "    print(len(x_list))"
   ]
  },
  {
   "cell_type": "code",
   "execution_count": 32,
   "metadata": {},
   "outputs": [
    {
     "name": "stdout",
     "output_type": "stream",
     "text": [
      "3\n"
     ]
    }
   ],
   "source": [
    "print(len([x for x in range(max(a), min(b)+1, min(a)) if \n",
    "         (sum([x%ai for ai in a])==0) and\n",
    "         (sum([bi%x for bi in b])==0)]))"
   ]
  },
  {
   "cell_type": "markdown",
   "metadata": {
    "collapsed": true
   },
   "source": [
    "Dashboard  Algorithms  Strings  Mars Exploration"
   ]
  },
  {
   "cell_type": "code",
   "execution_count": 33,
   "metadata": {
    "collapsed": true
   },
   "outputs": [],
   "source": [
    "compare = \"SOSSPSSQSSOR\""
   ]
  },
  {
   "cell_type": "code",
   "execution_count": 34,
   "metadata": {},
   "outputs": [
    {
     "data": {
      "text/plain": [
       "'SOSSOSSOSSOS'"
      ]
     },
     "execution_count": 34,
     "metadata": {},
     "output_type": "execute_result"
    }
   ],
   "source": [
    "original = \"SOS\"\n",
    "original_n = original*int(len(compare)/3)\n",
    "original_n"
   ]
  },
  {
   "cell_type": "code",
   "execution_count": 35,
   "metadata": {
    "collapsed": true
   },
   "outputs": [],
   "source": [
    "compare_list = list(compare)"
   ]
  },
  {
   "cell_type": "code",
   "execution_count": 36,
   "metadata": {
    "collapsed": true
   },
   "outputs": [],
   "source": [
    "original_list = list(original_n)"
   ]
  },
  {
   "cell_type": "code",
   "execution_count": 37,
   "metadata": {},
   "outputs": [
    {
     "data": {
      "text/plain": [
       "['S', 'O', 'S', 'S', 'P', 'S', 'S', 'Q', 'S', 'S', 'O', 'R']"
      ]
     },
     "execution_count": 37,
     "metadata": {},
     "output_type": "execute_result"
    }
   ],
   "source": [
    "[c for c in list(compare)]"
   ]
  },
  {
   "cell_type": "code",
   "execution_count": 38,
   "metadata": {},
   "outputs": [
    {
     "data": {
      "text/plain": [
       "['S', 'O', 'S', 'S', 'O', 'S', 'S', 'O', 'S', 'S', 'O', 'S']"
      ]
     },
     "execution_count": 38,
     "metadata": {},
     "output_type": "execute_result"
    }
   ],
   "source": [
    "[o for o in list(original_n)]"
   ]
  },
  {
   "cell_type": "code",
   "execution_count": 39,
   "metadata": {},
   "outputs": [
    {
     "data": {
      "text/plain": [
       "['P', 'Q', 'R']"
      ]
     },
     "execution_count": 39,
     "metadata": {},
     "output_type": "execute_result"
    }
   ],
   "source": [
    "C = [a for a, b in zip(compare_list, original_list) if a!=b]\n",
    "C"
   ]
  },
  {
   "cell_type": "code",
   "execution_count": 40,
   "metadata": {},
   "outputs": [
    {
     "name": "stdout",
     "output_type": "stream",
     "text": [
      "3\n"
     ]
    }
   ],
   "source": [
    "C = [a for a, b in zip(compare_list, original_list) if a!=b]\n",
    "print(len(C))"
   ]
  },
  {
   "cell_type": "markdown",
   "metadata": {
    "collapsed": true
   },
   "source": [
    "Dashboard  Algorithms  Implementation  Birthday Chocolate"
   ]
  },
  {
   "cell_type": "code",
   "execution_count": 41,
   "metadata": {
    "collapsed": true
   },
   "outputs": [],
   "source": [
    "squares = [1,2,1,3,3]\n",
    "m = 2\n",
    "d = 3"
   ]
  },
  {
   "cell_type": "code",
   "execution_count": 42,
   "metadata": {
    "collapsed": true
   },
   "outputs": [],
   "source": [
    "def getWays(squares, d, m):\n",
    "    counter = 0\n",
    "    for i, c in enumerate(squares):\n",
    "        if i+m <= len(squares) and sum(squares[i:i+m])==d:\n",
    "            counter+=1\n",
    "        else:\n",
    "            pass\n",
    "    return counter"
   ]
  },
  {
   "cell_type": "code",
   "execution_count": 43,
   "metadata": {},
   "outputs": [
    {
     "name": "stdout",
     "output_type": "stream",
     "text": [
      "2\n"
     ]
    }
   ],
   "source": [
    "print(getWays(squares, d, m))"
   ]
  },
  {
   "cell_type": "markdown",
   "metadata": {},
   "source": [
    "Dashboard  Algorithms  Implementation  Breaking the Records"
   ]
  },
  {
   "cell_type": "code",
   "execution_count": 44,
   "metadata": {
    "collapsed": true
   },
   "outputs": [],
   "source": [
    "scores = [10,5,20,20,4,5,2,25,1]"
   ]
  },
  {
   "cell_type": "code",
   "execution_count": 45,
   "metadata": {},
   "outputs": [
    {
     "name": "stdout",
     "output_type": "stream",
     "text": [
      "10 5\n",
      "5 20\n",
      "20 20\n",
      "20 4\n",
      "4 5\n",
      "5 2\n",
      "2 25\n",
      "25 1\n"
     ]
    }
   ],
   "source": [
    "increased = 0\n",
    "decreased = 0\n",
    "for i, s in enumerate(scores):\n",
    "    try:\n",
    "        print(s, scores[i+1])\n",
    "    except:\n",
    "        pass"
   ]
  },
  {
   "cell_type": "code",
   "execution_count": 52,
   "metadata": {
    "scrolled": true
   },
   "outputs": [
    {
     "name": "stdout",
     "output_type": "stream",
     "text": [
      "5\n",
      "-15\n",
      "0\n",
      "16\n",
      "-1\n",
      "3\n",
      "-23\n",
      "24\n"
     ]
    }
   ],
   "source": [
    "increased = 0\n",
    "decreased = 0\n",
    "for i, s in enumerate(scores):\n",
    "    try:\n",
    "        print(s-scores[i+1])\n",
    "    except:\n",
    "        pass"
   ]
  },
  {
   "cell_type": "code",
   "execution_count": 60,
   "metadata": {},
   "outputs": [
    {
     "name": "stdout",
     "output_type": "stream",
     "text": [
      "2 4\n"
     ]
    }
   ],
   "source": [
    "increased = 0\n",
    "decreased = 0\n",
    "for i, s in enumerate(scores):\n",
    "    try:\n",
    "        if s<scores[i+1] and (scores[i+1]>max(scores[:i+1])):\n",
    "            increased +=1\n",
    "        elif s>scores[i+1] and (scores[i+1]<min(scores[:i+1])):\n",
    "            decreased +=1\n",
    "        else:\n",
    "            pass\n",
    "    except:\n",
    "        pass\n",
    "print(increased, decreased)"
   ]
  },
  {
   "cell_type": "code",
   "execution_count": 64,
   "metadata": {},
   "outputs": [
    {
     "name": "stdout",
     "output_type": "stream",
     "text": [
      "2 4\n"
     ]
    }
   ],
   "source": [
    "best = len([i for i in range(len(scores)-1) if scores[i+1]>max(scores[:i+1])])\n",
    "worst = len([i for i in range(len(scores)-1) if scores[i+1]<min(scores[:i+1])])\n",
    "print(best, worst)"
   ]
  },
  {
   "cell_type": "markdown",
   "metadata": {
    "collapsed": true
   },
   "source": [
    "Dashboard  Algorithms  Implementation  Migratory Birds"
   ]
  },
  {
   "cell_type": "code",
   "execution_count": 158,
   "metadata": {
    "collapsed": true
   },
   "outputs": [],
   "source": [
    "birds = [1,5,5,5,4,4,4,3]"
   ]
  },
  {
   "cell_type": "code",
   "execution_count": 164,
   "metadata": {
    "collapsed": true
   },
   "outputs": [],
   "source": [
    "import time"
   ]
  },
  {
   "cell_type": "code",
   "execution_count": 165,
   "metadata": {},
   "outputs": [
    {
     "name": "stdout",
     "output_type": "stream",
     "text": [
      "4\n",
      "0.002269744873046875\n"
     ]
    }
   ],
   "source": [
    "start = time.time()\n",
    "# do something:\n",
    "counts = [birds.count(i+1) for i in range(len(set(birds)))]\n",
    "print(counts.index(max(counts))+1)\n",
    "end = time.time()\n",
    "print(end - start)"
   ]
  },
  {
   "cell_type": "code",
   "execution_count": 166,
   "metadata": {},
   "outputs": [
    {
     "name": "stdout",
     "output_type": "stream",
     "text": [
      "4\n",
      "0.0015001296997070312\n"
     ]
    }
   ],
   "source": [
    "start = time.time()\n",
    "# do something:\n",
    "counts = [birds.count(i+1) for i in range(len(birds))]\n",
    "print(counts.index(max(counts))+1)\n",
    "end = time.time()\n",
    "print(end - start)"
   ]
  },
  {
   "cell_type": "code",
   "execution_count": 169,
   "metadata": {
    "scrolled": true
   },
   "outputs": [
    {
     "name": "stdout",
     "output_type": "stream",
     "text": [
      "4\n",
      "0.0036818981170654297\n"
     ]
    }
   ],
   "source": [
    "start = time.time()\n",
    "# do something:\n",
    "print(max(set(birds), key=birds.count))\n",
    "end = time.time()\n",
    "print(end - start)"
   ]
  },
  {
   "cell_type": "markdown",
   "metadata": {
    "collapsed": true
   },
   "source": [
    "Dashboard  Algorithms  Strings  Two Characters"
   ]
  },
  {
   "cell_type": "code",
   "execution_count": 78,
   "metadata": {
    "collapsed": true
   },
   "outputs": [],
   "source": [
    "test1 = \"beabeefeab\""
   ]
  },
  {
   "cell_type": "code",
   "execution_count": 2,
   "metadata": {
    "collapsed": true
   },
   "outputs": [],
   "source": [
    "test2 = 'xoxdoxox'"
   ]
  },
  {
   "cell_type": "code",
   "execution_count": 502,
   "metadata": {
    "collapsed": true
   },
   "outputs": [],
   "source": [
    "def is_alternating(string):\n",
    "    delete = []\n",
    "    for s in string:\n",
    "        unique = set(string)\n",
    "        for u in unique:\n",
    "            try_string = string.replace(u, '')\n",
    "            even_chars = [c for i, c in enumerate(try_string) if i%2 ==0]\n",
    "            odd_chars = [c for i, c in enumerate(try_string) if i%2 ==1]\n",
    "            if len(set(even_chars))!=1 and len(set(odd_chars))!=1:\n",
    "                delete.append(u)\n",
    "                return delete, try_string\n",
    "            elif len(set(even_chars))==1 and len(set(odd_chars))==1:\n",
    "                delete.append(u)\n",
    "                return delete, try_string"
   ]
  },
  {
   "cell_type": "code",
   "execution_count": 503,
   "metadata": {
    "scrolled": true
   },
   "outputs": [
    {
     "data": {
      "text/plain": [
       "(['d'], 'xoxoxox')"
      ]
     },
     "execution_count": 503,
     "metadata": {},
     "output_type": "execute_result"
    }
   ],
   "source": [
    "is_alternating(test2)"
   ]
  },
  {
   "cell_type": "code",
   "execution_count": 504,
   "metadata": {},
   "outputs": [
    {
     "data": {
      "text/plain": [
       "(['e'], 'babfab')"
      ]
     },
     "execution_count": 504,
     "metadata": {},
     "output_type": "execute_result"
    }
   ],
   "source": [
    "is_alternating(test1)"
   ]
  },
  {
   "cell_type": "code",
   "execution_count": 658,
   "metadata": {
    "collapsed": true
   },
   "outputs": [],
   "source": [
    "def is_alternating(string):\n",
    "    delete = []\n",
    "    for s in string:\n",
    "        unique = set(string)\n",
    "        for u in unique:\n",
    "            try_string = string.replace(u, '')\n",
    "            even_chars = [c for i, c in enumerate(try_string) if i%2 ==0]\n",
    "            odd_chars = [c for i, c in enumerate(try_string) if i%2 ==1]\n",
    "            if len(set(even_chars))!=1 and len(set(odd_chars))!=1:\n",
    "                delete.append(u)\n",
    "            elif len(set(even_chars))==1 and len(set(odd_chars))==1:\n",
    "                delete.append(u)\n",
    "        for ch in delete:\n",
    "            string=string.replace(ch,'')\n",
    "            return delete, string"
   ]
  },
  {
   "cell_type": "code",
   "execution_count": 659,
   "metadata": {},
   "outputs": [
    {
     "data": {
      "text/plain": [
       "(['d'], 'xoxoxox')"
      ]
     },
     "execution_count": 659,
     "metadata": {},
     "output_type": "execute_result"
    }
   ],
   "source": [
    "is_alternating(test2)"
   ]
  },
  {
   "cell_type": "code",
   "execution_count": 660,
   "metadata": {},
   "outputs": [
    {
     "data": {
      "text/plain": [
       "(['e', 'b', 'f', 'a'], 'babfab')"
      ]
     },
     "execution_count": 660,
     "metadata": {},
     "output_type": "execute_result"
    }
   ],
   "source": [
    "is_alternating(test1)"
   ]
  },
  {
   "cell_type": "code",
   "execution_count": 11,
   "metadata": {
    "collapsed": true
   },
   "outputs": [],
   "source": [
    "unique = list(set(test1))"
   ]
  },
  {
   "cell_type": "code",
   "execution_count": 4,
   "metadata": {
    "collapsed": true
   },
   "outputs": [],
   "source": [
    "from itertools import combinations"
   ]
  },
  {
   "cell_type": "code",
   "execution_count": 14,
   "metadata": {},
   "outputs": [
    {
     "data": {
      "text/plain": [
       "<itertools.combinations at 0x7f08941dc868>"
      ]
     },
     "execution_count": 14,
     "metadata": {},
     "output_type": "execute_result"
    }
   ],
   "source": [
    "combinations(, 2)"
   ]
  },
  {
   "cell_type": "code",
   "execution_count": null,
   "metadata": {
    "collapsed": true
   },
   "outputs": [],
   "source": []
  },
  {
   "cell_type": "code",
   "execution_count": 17,
   "metadata": {},
   "outputs": [
    {
     "data": {
      "text/plain": [
       "{'a', 'b', 'e', 'f'}"
      ]
     },
     "execution_count": 17,
     "metadata": {},
     "output_type": "execute_result"
    }
   ],
   "source": [
    "letters = set(test1)\n",
    "letters"
   ]
  },
  {
   "cell_type": "code",
   "execution_count": 20,
   "metadata": {},
   "outputs": [
    {
     "data": {
      "text/plain": [
       "[('b', 'a'), ('b', 'e'), ('b', 'f'), ('a', 'e'), ('a', 'f'), ('e', 'f')]"
      ]
     },
     "execution_count": 20,
     "metadata": {},
     "output_type": "execute_result"
    }
   ],
   "source": [
    "combos = []\n",
    "for i in letters:\n",
    "    for j in letters:\n",
    "        if i != j:\n",
    "            if (i, j) not in combos:\n",
    "                if (j, i) not in combos:\n",
    "                    combos.append((i, j))\n",
    "combos"
   ]
  },
  {
   "cell_type": "code",
   "execution_count": 45,
   "metadata": {
    "scrolled": true
   },
   "outputs": [
    {
     "data": {
      "text/plain": [
       "['b', 'e', 'a', 'b', 'e', 'e', 'f', 'e', 'a', 'b']"
      ]
     },
     "execution_count": 45,
     "metadata": {},
     "output_type": "execute_result"
    }
   ],
   "source": [
    "[i for i in list(test1)]"
   ]
  },
  {
   "cell_type": "code",
   "execution_count": 57,
   "metadata": {},
   "outputs": [
    {
     "data": {
      "text/plain": [
       "True"
      ]
     },
     "execution_count": 57,
     "metadata": {},
     "output_type": "execute_result"
    }
   ],
   "source": [
    "'b' in combos[2]"
   ]
  },
  {
   "cell_type": "code",
   "execution_count": 100,
   "metadata": {},
   "outputs": [
    {
     "ename": "SyntaxError",
     "evalue": "invalid syntax (<ipython-input-100-18f30d35bd9c>, line 5)",
     "output_type": "error",
     "traceback": [
      "\u001b[0;36m  File \u001b[0;32m\"<ipython-input-100-18f30d35bd9c>\"\u001b[0;36m, line \u001b[0;32m5\u001b[0m\n\u001b[0;31m    for i in letter if i in combos:\u001b[0m\n\u001b[0m                                  ^\u001b[0m\n\u001b[0;31mSyntaxError\u001b[0m\u001b[0;31m:\u001b[0m invalid syntax\n"
     ]
    }
   ],
   "source": [
    "length_list = []\n",
    "s_prime = []\n",
    "for combo in combos:\n",
    "    for letter in list(test1):\n",
    "        for i in letter if i in combos:\n",
    "            s_prime.append(i)\n",
    "    zipped = zip(s_prime[:1], s_prime[1:])\n",
    "    if len([i for i, j in zipped if i==j]) == 0:\n",
    "        length_list.append(len(s_prime))\n",
    "print(max(length_list))"
   ]
  },
  {
   "cell_type": "code",
   "execution_count": 90,
   "metadata": {},
   "outputs": [
    {
     "name": "stdout",
     "output_type": "stream",
     "text": [
      "('b', 'a')\n",
      "('b', 'e')\n",
      "('b', 'f')\n",
      "('a', 'e')\n",
      "('a', 'f')\n",
      "('e', 'f')\n"
     ]
    }
   ],
   "source": [
    "for combo in combos:\n",
    "    print(combo)"
   ]
  },
  {
   "cell_type": "code",
   "execution_count": 99,
   "metadata": {},
   "outputs": [
    {
     "name": "stdout",
     "output_type": "stream",
     "text": [
      "b\n",
      "e\n",
      "a\n",
      "b\n",
      "e\n",
      "e\n",
      "f\n",
      "e\n",
      "a\n",
      "b\n"
     ]
    }
   ],
   "source": [
    "for letter in list(test1):\n",
    "#     print(letter)\n",
    "    for i in letter:\n",
    "        print(i)"
   ]
  },
  {
   "cell_type": "code",
   "execution_count": 103,
   "metadata": {},
   "outputs": [
    {
     "name": "stdout",
     "output_type": "stream",
     "text": [
      "5\n"
     ]
    }
   ],
   "source": [
    "letters = set(test1)\n",
    "combos = []\n",
    "\n",
    "for i in letters:\n",
    "    for j in letters:\n",
    "        if i is not j:\n",
    "            if (i,j) not in combos:\n",
    "                if (j,i) not in combos:\n",
    "                    combos.append((i,j))\n",
    "\n",
    "length_list = []\n",
    "for combo in combos:\n",
    "    s_prime = [i for i in test1 if i in combo]\n",
    "    zipped = zip(s_prime[:-1], s_prime[1:])\n",
    "    if len([i for i,j in zipped if i==j]) == 0:\n",
    "        length_list.append(len(s_prime))\n",
    "if len(length_list) == 0:\n",
    "    print('0')\n",
    "else:    \n",
    "    print(max(length_list))"
   ]
  },
  {
   "cell_type": "code",
   "execution_count": null,
   "metadata": {
    "collapsed": true
   },
   "outputs": [],
   "source": []
  },
  {
   "cell_type": "code",
   "execution_count": null,
   "metadata": {
    "collapsed": true
   },
   "outputs": [],
   "source": []
  },
  {
   "cell_type": "code",
   "execution_count": null,
   "metadata": {
    "collapsed": true
   },
   "outputs": [],
   "source": []
  },
  {
   "cell_type": "code",
   "execution_count": null,
   "metadata": {
    "collapsed": true
   },
   "outputs": [],
   "source": []
  },
  {
   "cell_type": "code",
   "execution_count": 82,
   "metadata": {},
   "outputs": [
    {
     "name": "stdout",
     "output_type": "stream",
     "text": [
      "['b', 'e', 'a', 'b', 'e', 'e', 'f', 'e', 'a', 'b']\n",
      "('b', 'a')\n",
      "False\n",
      "['b', 'e', 'a', 'b', 'e', 'e', 'f', 'e', 'a', 'b']\n",
      "('b', 'e')\n",
      "False\n",
      "['b', 'e', 'a', 'b', 'e', 'e', 'f', 'e', 'a', 'b']\n",
      "('b', 'f')\n",
      "True\n",
      "['b', 'e', 'a', 'b', 'e', 'e', 'f', 'e', 'a', 'b']\n",
      "('a', 'e')\n",
      "False\n",
      "['b', 'e', 'a', 'b', 'e', 'e', 'f', 'e', 'a', 'b']\n",
      "('a', 'f')\n",
      "True\n",
      "['b', 'e', 'a', 'b', 'e', 'e', 'f', 'e', 'a', 'b']\n",
      "('e', 'f')\n",
      "True\n"
     ]
    }
   ],
   "source": [
    "for combo in combos:\n",
    "    print([i for i in list(test1)])\n",
    "    print(combo)\n",
    "    print(i in combo)"
   ]
  },
  {
   "cell_type": "code",
   "execution_count": 52,
   "metadata": {},
   "outputs": [
    {
     "data": {
      "text/plain": [
       "[5, 7, 6, 3]"
      ]
     },
     "execution_count": 52,
     "metadata": {},
     "output_type": "execute_result"
    }
   ],
   "source": [
    "length_list"
   ]
  },
  {
   "cell_type": "markdown",
   "metadata": {
    "collapsed": true
   },
   "source": [
    "Dashboard  Python  Sets  Introduction to Sets"
   ]
  },
  {
   "cell_type": "code",
   "execution_count": 1,
   "metadata": {
    "collapsed": true
   },
   "outputs": [],
   "source": [
    "height = [161,182,161,154,176,170,167,171,170,174]"
   ]
  },
  {
   "cell_type": "code",
   "execution_count": 7,
   "metadata": {},
   "outputs": [
    {
     "data": {
      "text/plain": [
       "10"
      ]
     },
     "execution_count": 7,
     "metadata": {},
     "output_type": "execute_result"
    }
   ],
   "source": [
    "len(height)"
   ]
  },
  {
   "cell_type": "code",
   "execution_count": 47,
   "metadata": {
    "collapsed": true
   },
   "outputs": [],
   "source": [
    "def average(array):\n",
    "    return sum(set(array))/len(set(array))"
   ]
  },
  {
   "cell_type": "code",
   "execution_count": 48,
   "metadata": {},
   "outputs": [
    {
     "data": {
      "text/plain": [
       "169.375"
      ]
     },
     "execution_count": 48,
     "metadata": {},
     "output_type": "execute_result"
    }
   ],
   "source": [
    "average(height)"
   ]
  },
  {
   "cell_type": "markdown",
   "metadata": {},
   "source": [
    "Dashboard  Python  Sets  Symmetric Difference"
   ]
  },
  {
   "cell_type": "code",
   "execution_count": 60,
   "metadata": {
    "collapsed": true
   },
   "outputs": [],
   "source": [
    "M = [2,4,5,9]\n",
    "N = [2,4,11,12]"
   ]
  },
  {
   "cell_type": "code",
   "execution_count": 46,
   "metadata": {},
   "outputs": [
    {
     "name": "stdout",
     "output_type": "stream",
     "text": [
      "[5, 9, 11, 12]\n"
     ]
    }
   ],
   "source": [
    "diff = []\n",
    "for i, j in zip(M, N):\n",
    "    if i != j or j != i:\n",
    "        diff.append(i)\n",
    "        diff.append(j)\n",
    "    else:\n",
    "        pass\n",
    "print(sorted(diff))"
   ]
  },
  {
   "cell_type": "code",
   "execution_count": 68,
   "metadata": {},
   "outputs": [
    {
     "name": "stdout",
     "output_type": "stream",
     "text": [
      "5\n",
      "9\n",
      "11\n",
      "12\n"
     ]
    },
    {
     "data": {
      "text/plain": [
       "[None, None, None, None]"
      ]
     },
     "execution_count": 68,
     "metadata": {},
     "output_type": "execute_result"
    }
   ],
   "source": [
    "M = set(M)\n",
    "N = set(N)\n",
    "\n",
    "sym_diff = M.union(N) - M.intersection(N)\n",
    "[print(i) for i in sorted(sym_diff)]"
   ]
  },
  {
   "cell_type": "markdown",
   "metadata": {
    "collapsed": true
   },
   "source": [
    "Dashboard  Python  Sets  The Captain's Room"
   ]
  },
  {
   "cell_type": "code",
   "execution_count": 92,
   "metadata": {
    "collapsed": true
   },
   "outputs": [],
   "source": [
    "rooms = [1,2,3,6,5,4,4,2,5,3,6,1,6,5,3,2,4,1,2,5,1,4,3,6,8,4,3,1,5,6,2]"
   ]
  },
  {
   "cell_type": "code",
   "execution_count": 90,
   "metadata": {},
   "outputs": [
    {
     "name": "stdout",
     "output_type": "stream",
     "text": [
      "8\n"
     ]
    }
   ],
   "source": [
    "unique_w_cap = set(rooms)\n",
    "[rooms.remove(i) for i in unique_w_cap]\n",
    "unique_wo_cap = set(rooms)\n",
    "print((unique_w_cap - unique_wo_cap).pop())"
   ]
  },
  {
   "cell_type": "code",
   "execution_count": 93,
   "metadata": {
    "scrolled": true
   },
   "outputs": [
    {
     "name": "stdout",
     "output_type": "stream",
     "text": [
      "8\n"
     ]
    }
   ],
   "source": [
    "myset = set(rooms)\n",
    "print(((sum(myset)*K)-(sum(rooms)))//(K-1))"
   ]
  },
  {
   "cell_type": "markdown",
   "metadata": {
    "collapsed": true
   },
   "source": [
    "Dashboard  Python  Sets  Check Strict Superset"
   ]
  },
  {
   "cell_type": "code",
   "execution_count": 21,
   "metadata": {
    "collapsed": true
   },
   "outputs": [],
   "source": [
    "A = [1,2,3,4,5,6,7,8,9,10,11,12,23,45,84,78]\n",
    "set1 = [1,2,3,4,5]\n",
    "set2 = [100,11,12]"
   ]
  },
  {
   "cell_type": "code",
   "execution_count": 22,
   "metadata": {},
   "outputs": [
    {
     "data": {
      "text/plain": [
       "False"
      ]
     },
     "execution_count": 22,
     "metadata": {},
     "output_type": "execute_result"
    }
   ],
   "source": [
    "set(A).issuperset(set1) and set(A).issuperset(set2)"
   ]
  },
  {
   "cell_type": "markdown",
   "metadata": {
    "collapsed": true
   },
   "source": [
    "Dashboard  Algorithms  Strings  Making Anagrams"
   ]
  },
  {
   "cell_type": "code",
   "execution_count": 21,
   "metadata": {
    "collapsed": true
   },
   "outputs": [],
   "source": [
    "S1 = \"abcd\"\n",
    "S2 = \"bcdefg\""
   ]
  },
  {
   "cell_type": "code",
   "execution_count": 22,
   "metadata": {},
   "outputs": [
    {
     "name": "stdout",
     "output_type": "stream",
     "text": [
      "{'b', 'd', 'c', 'a'}\n",
      "{'e', 'd', 'c', 'b', 'f', 'g'}\n"
     ]
    }
   ],
   "source": [
    "S1_unique = set(S1)\n",
    "S2_unique = set(S2)\n",
    "print(S1_unique)\n",
    "print(S2_unique)"
   ]
  },
  {
   "cell_type": "code",
   "execution_count": 26,
   "metadata": {},
   "outputs": [
    {
     "name": "stdout",
     "output_type": "stream",
     "text": [
      "b\n",
      "d\n",
      "c\n"
     ]
    }
   ],
   "source": [
    "for a in S1_unique:\n",
    "    for b in S2_unique:\n",
    "        if a == b:\n",
    "            print(a)\n",
    "        else:\n",
    "            pass"
   ]
  },
  {
   "cell_type": "code",
   "execution_count": 59,
   "metadata": {},
   "outputs": [
    {
     "data": {
      "text/plain": [
       "4"
      ]
     },
     "execution_count": 59,
     "metadata": {},
     "output_type": "execute_result"
    }
   ],
   "source": [
    "S1 = \"abcd\"\n",
    "S2 = \"bcdefg\"\n",
    "\n",
    "S1_unique = set(S1)\n",
    "S2_unique = set(S2)\n",
    "\n",
    "uncommon = []\n",
    "def make_anagrams(S1_unique, S2_unique):\n",
    "    uncommon.append(S1_unique - S2_unique)\n",
    "    uncommon.append(S2_unique - S1_unique)\n",
    "    print(uncommon)\n",
    "    \n",
    "def count_rm(S1, S2):\n",
    "    rm_count = 0\n",
    "    for char in S1_unique - S2_unique:\n",
    "        while char in S1:\n",
    "            S1 = S1.replace(char, '')\n",
    "            rm_count +=1\n",
    "    for chars in S2_unique - S1_unique:\n",
    "        while chars in S2:\n",
    "            S2 = S2.replace(chars, '')\n",
    "            rm_count +=1\n",
    "    return rm_count\n",
    "\n",
    "count_rm(S1, S2)"
   ]
  },
  {
   "cell_type": "code",
   "execution_count": 79,
   "metadata": {
    "collapsed": true
   },
   "outputs": [],
   "source": [
    "S1 = \"abbcd\"\n",
    "S2 = \"bcdefg\""
   ]
  },
  {
   "cell_type": "code",
   "execution_count": 72,
   "metadata": {},
   "outputs": [
    {
     "name": "stdout",
     "output_type": "stream",
     "text": [
      "b b\n",
      "b b\n",
      "c c\n",
      "d d\n",
      "[]\n"
     ]
    }
   ],
   "source": [
    "\n",
    "\n",
    "# # S1_unique = set(S1)\n",
    "# # S2_unique = set(S2)\n",
    "\n",
    "# def make_anagrams(S1, S2):\n",
    "#     for a in S1:\n",
    "#         for b in S2:\n",
    "#             if a!=b:\n",
    "#                 uncommon_S1 = S1.replace(a, \"\")\n",
    "# #                 uncommon_S2 = S2.replace(b, \"\")\n",
    "#             else:\n",
    "#                 print(a, b)\n",
    "#     print(uncommon)\n",
    "    \n",
    "# make_anagrams(S1, S2)\n",
    "\n",
    "def count_rm(S1, S2):\n",
    "    rm_count = 0\n",
    "    for char in S1_unique - S2_unique:\n",
    "        while char in S1:\n",
    "            S1 = S1.replace(char, '')\n",
    "            rm_count +=1\n",
    "    for chars in S2_unique - S1_unique:\n",
    "        while chars in S2:\n",
    "            S2 = S2.replace(chars, '')\n",
    "            rm_count +=1\n",
    "    return rm_count\n",
    "\n",
    "count_rm(S1, S2)"
   ]
  },
  {
   "cell_type": "code",
   "execution_count": 80,
   "metadata": {},
   "outputs": [
    {
     "name": "stdout",
     "output_type": "stream",
     "text": [
      "a\n",
      "e\n",
      "f\n"
     ]
    }
   ],
   "source": [
    "for a, b in zip(S1, S2):\n",
    "    if a not in S2:\n",
    "        print(a)\n",
    "    if b not in S1:\n",
    "        print(b)"
   ]
  },
  {
   "cell_type": "code",
   "execution_count": 84,
   "metadata": {
    "scrolled": true
   },
   "outputs": [
    {
     "name": "stdout",
     "output_type": "stream",
     "text": [
      "a\n",
      "b\n",
      "b\n",
      "c\n",
      "b\n",
      "d\n",
      "c\n",
      "e\n",
      "d\n",
      "f\n"
     ]
    }
   ],
   "source": [
    "for a, b in zip(S1, S2):\n",
    "    print(a)\n",
    "    print(b)"
   ]
  },
  {
   "cell_type": "code",
   "execution_count": null,
   "metadata": {
    "collapsed": true
   },
   "outputs": [],
   "source": []
  }
 ],
 "metadata": {
  "kernelspec": {
   "display_name": "Python 3",
   "language": "python",
   "name": "python3"
  },
  "language_info": {
   "codemirror_mode": {
    "name": "ipython",
    "version": 3
   },
   "file_extension": ".py",
   "mimetype": "text/x-python",
   "name": "python",
   "nbconvert_exporter": "python",
   "pygments_lexer": "ipython3",
   "version": "3.5.2"
  }
 },
 "nbformat": 4,
 "nbformat_minor": 2
}
